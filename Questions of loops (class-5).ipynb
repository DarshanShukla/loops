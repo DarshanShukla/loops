{
 "cells": [
  {
   "cell_type": "code",
   "execution_count": 1,
   "id": "d45a0da8",
   "metadata": {},
   "outputs": [
    {
     "ename": "SyntaxError",
     "evalue": "EOL while scanning string literal (105686462.py, line 1)",
     "output_type": "error",
     "traceback": [
      "\u001b[1;36m  Input \u001b[1;32mIn [1]\u001b[1;36m\u001b[0m\n\u001b[1;33m    \"q1 :\u001b[0m\n\u001b[1;37m         ^\u001b[0m\n\u001b[1;31mSyntaxError\u001b[0m\u001b[1;31m:\u001b[0m EOL while scanning string literal\n"
     ]
    }
   ],
   "source": [
    " \"q1 :\n",
    "    \"ineruon \\n\",\n",
    "    \"ineruon ineruon \\n\",\n",
    "    \"ineruon ineruon ineruon\\n\",\n",
    "    \"ineruon ineruon ineruon ineruon\\n\",\n",
    "    \"\\n\",\n",
    "    \"q2 - \\n\",\n",
    "    \"\\n\",\n",
    "    \"          ineruon\\n\",\n",
    "    \"    ineruon      ineruon\\n\",\n",
    "    \"ineruon\\t\\tineruon \\tineruon\\n\",\n",
    "    \"\\tineruon\\t\\t ineruon\\n\",\n",
    "    \"\\t\\t  ineruon\\n\",\n",
    "    \"\\n\",\n",
    "    \"l = [[1,2,3,4] , (2,3,4,5,6) , (3,4,5,6,7) , set([23,4,5,45,4,4,5,45,45,4,5]) , {'k1' :\\\"sudh\\\" , \\\"k2\\\" : \\\"ineuron\\\",\\\"k3\\\":\\n\",\n",
    "    \"            \\\"kumar\\\" , 3:6 , 7:8} , [\\\"ineuron\\\" , \\\"data science \\\"]]\\n\",\n",
    "    \"\\n\",\n",
    "    \"q3 : Try to extract all the list entity \\n\",\n",
    "    \"q4 : Try to extract all the dict enteties\\n\",\n",
    "    \"q5 : Try to extract all the tuples entities\\n\",\n",
    "    \"q6 : Try to extract all the numerical data it may b a part of dict key and values \\n\",\n",
    "    \"q7 : Try to give summation of all the numeric data \\n\",\n",
    "    \"q8 : Try to filter out all the odd values out all numeric data which is a part of a list \\n\",\n",
    "    \"q9 : Try to extract \\\"ineruon\\\" out of this data\\n\",\n",
    "    \"q10 :Try to find out a number of occurances of all the data \\n\",\n",
    "    \"q11 : Try to find out number of keys in dict element\\n\",\n",
    "    \"q12 : Try to filter out all the string data \\n\",\n",
    "    \"q13 : Try to Find  out alphanum in data\\n\",\n",
    "    \"q14 : Try to find out multiplication of all numeric value in  the individual collection inside dataset \\n\",\n",
    "    \"q15 : Try to unwrape all the collection inside collection and create a flat list \\n\",\n",
    "    \"    \\n\",\n",
    "    \"    \\n\",\n",
    "    \"before 29th may 2022 3 PM IST you have to send an answer to me or to shivan \\n\",\n",
    "    \"sudhanshu@ineuron.ai\\n\",\n",
    "    \"shivan@ineuron.ai\""
   ]
  },
  {
   "cell_type": "code",
   "execution_count": null,
   "id": "61617c00",
   "metadata": {},
   "outputs": [],
   "source": [
    "# 1\n",
    "d = \"ineuron\"\n",
    "for i in range(5):\n",
    "    for a in range(0, i+1):\n",
    "        print(\"ineuron\", end = \" \")\n",
    "    print(\"\\n\")\n",
    "    \n",
    "    "
   ]
  },
  {
   "cell_type": "code",
   "execution_count": null,
   "id": "14de4515",
   "metadata": {},
   "outputs": [],
   "source": [
    "# 2\n",
    "a = int(input(\"Enter the number of rows-\"))\n",
    "for i in range(0,a):\n",
    "    for b in range(0, a-i-1):\n",
    "       print(end = \" \")\n",
    "    for b in range(0,i+1):\n",
    "        print(\"ineuron\", end = \" \")\n",
    "    print()\n",
    "    \n",
    "    "
   ]
  },
  {
   "cell_type": "code",
   "execution_count": 2,
   "id": "33a03e27",
   "metadata": {},
   "outputs": [],
   "source": [
    "l = [[1,2,3,4] , (2,3,4,5,6) , (3,4,5,6,7) , set([23,4,5,45,4,4,5,45,45,4,5]) , {'k1' :\"sudh\" , \"k2\" : \"ineuron\",\"k3\": \"kumar\" , 3:6 , 7:8} , [\"ineuron\" , \"data science \"]]"
   ]
  },
  {
   "cell_type": "code",
   "execution_count": 3,
   "id": "84763708",
   "metadata": {},
   "outputs": [
    {
     "name": "stdout",
     "output_type": "stream",
     "text": [
      "[1, 2, 3, 4]\n",
      "(2, 3, 4, 5, 6)\n",
      "(3, 4, 5, 6, 7)\n",
      "{45, 4, 5, 23}\n",
      "{'k1': 'sudh', 'k2': 'ineuron', 'k3': 'kumar', 3: 6, 7: 8}\n",
      "['ineuron', 'data science ']\n"
     ]
    }
   ],
   "source": [
    "# 3 \"q3 : Try to extract all the list entity \\n\",\n",
    "for i in l:\n",
    "    print(i)"
   ]
  },
  {
   "cell_type": "code",
   "execution_count": 4,
   "id": "f2c2230d",
   "metadata": {},
   "outputs": [
    {
     "name": "stdout",
     "output_type": "stream",
     "text": [
      "{'k1': 'sudh', 'k2': 'ineuron', 'k3': 'kumar', 3: 6, 7: 8}\n"
     ]
    }
   ],
   "source": [
    "# \"q4 : Try to extract all the dict enteties\\n\",\n",
    "for i in l:\n",
    "    if type(i) == dict:\n",
    "        print(i)"
   ]
  },
  {
   "cell_type": "code",
   "execution_count": 5,
   "id": "6e74fe5c",
   "metadata": {},
   "outputs": [
    {
     "name": "stdout",
     "output_type": "stream",
     "text": [
      "(2, 3, 4, 5, 6)\n",
      "(3, 4, 5, 6, 7)\n"
     ]
    }
   ],
   "source": [
    "# \"q5 : Try to extract all the tuples entities\\n\",\n",
    "for i in l:\n",
    "    if type(i) == tuple:\n",
    "        print(i)"
   ]
  },
  {
   "cell_type": "code",
   "execution_count": 6,
   "id": "52e64beb",
   "metadata": {},
   "outputs": [],
   "source": [
    "l = [[1,2,3,4] , (2,3,4,5,6) , (3,4,5,6,7) , set([23,4,5,45,4,4,5,45,45,4,5]) , {'k1' :\"sudh\" , \"k2\" : \"ineuron\",\"k3\": \"kumar\" , 3:6 , 7:8} , [\"ineuron\" , \"data science \"]]\n",
    "# q6 : Try to extract all the numerical data it may b a part of dict key and value\n",
    "\n",
    "for i in l:\n",
    "    if type(i) == list or type(i) == tuple:\n",
    "        for j in i:\n",
    "            if j == type(int):\n",
    "                print(\"j\")"
   ]
  },
  {
   "cell_type": "code",
   "execution_count": null,
   "id": "021ca006",
   "metadata": {},
   "outputs": [],
   "source": []
  },
  {
   "cell_type": "code",
   "execution_count": null,
   "id": "0d64e8a2",
   "metadata": {},
   "outputs": [],
   "source": []
  },
  {
   "cell_type": "code",
   "execution_count": null,
   "id": "2045bf08",
   "metadata": {},
   "outputs": [],
   "source": []
  }
 ],
 "metadata": {
  "kernelspec": {
   "display_name": "Python 3 (ipykernel)",
   "language": "python",
   "name": "python3"
  },
  "language_info": {
   "codemirror_mode": {
    "name": "ipython",
    "version": 3
   },
   "file_extension": ".py",
   "mimetype": "text/x-python",
   "name": "python",
   "nbconvert_exporter": "python",
   "pygments_lexer": "ipython3",
   "version": "3.9.12"
  }
 },
 "nbformat": 4,
 "nbformat_minor": 5
}
